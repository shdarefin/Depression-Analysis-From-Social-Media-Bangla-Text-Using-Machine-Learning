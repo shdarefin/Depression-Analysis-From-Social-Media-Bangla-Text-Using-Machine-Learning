{
  "nbformat": 4,
  "nbformat_minor": 0,
  "metadata": {
    "colab": {
      "provenance": []
    },
    "kernelspec": {
      "name": "python3",
      "display_name": "Python 3"
    },
    "language_info": {
      "name": "python"
    }
  },
  "cells": [
    {
      "cell_type": "code",
      "source": [
        "import pandas as pd\n",
        "df = pd.read_excel(\"/content/Depression_Analysis.xlsx\")"
      ],
      "metadata": {
        "id": "C260ccWPDnWK"
      },
      "execution_count": null,
      "outputs": []
    },
    {
      "cell_type": "code",
      "source": [
        "df.head()"
      ],
      "metadata": {
        "colab": {
          "base_uri": "https://localhost:8080/",
          "height": 206
        },
        "id": "bqUoZv7bD7BZ",
        "outputId": "38eb6f87-f666-4d95-f0ee-0c84e49b6125"
      },
      "execution_count": null,
      "outputs": [
        {
          "output_type": "execute_result",
          "data": {
            "text/plain": [
              "                                         Bangla_Text Depression_Analysis\n",
              "0    আজ বলবো কি যে তোমায় তুমি অনেক ভালো থেকো আমি ...          Depressive\n",
              "1  জীবনের গতির কথা ভাবলে পা দুটোর গতিও থেমে রয়,, ...          Depressive\n",
              "2  ফেলে আসা এক নদীর ধারে, খুজে বেড়াই আমি তারে! দে...          Depressive\n",
              "3  আপনার হাসি বিশ্বের সাথে ভাগ করুন। এটি বন্ধুত্ব...      Non_Depressive\n",
              "4  আপনি যা পরেন না তা আপনার হাসির চেয়ে গুরুত্বপূ...      Non_Depressive"
            ],
            "text/html": [
              "\n",
              "  <div id=\"df-e825348c-b7dc-4552-bda8-09b91fa04322\">\n",
              "    <div class=\"colab-df-container\">\n",
              "      <div>\n",
              "<style scoped>\n",
              "    .dataframe tbody tr th:only-of-type {\n",
              "        vertical-align: middle;\n",
              "    }\n",
              "\n",
              "    .dataframe tbody tr th {\n",
              "        vertical-align: top;\n",
              "    }\n",
              "\n",
              "    .dataframe thead th {\n",
              "        text-align: right;\n",
              "    }\n",
              "</style>\n",
              "<table border=\"1\" class=\"dataframe\">\n",
              "  <thead>\n",
              "    <tr style=\"text-align: right;\">\n",
              "      <th></th>\n",
              "      <th>Bangla_Text</th>\n",
              "      <th>Depression_Analysis</th>\n",
              "    </tr>\n",
              "  </thead>\n",
              "  <tbody>\n",
              "    <tr>\n",
              "      <th>0</th>\n",
              "      <td>আজ বলবো কি যে তোমায় তুমি অনেক ভালো থেকো আমি ...</td>\n",
              "      <td>Depressive</td>\n",
              "    </tr>\n",
              "    <tr>\n",
              "      <th>1</th>\n",
              "      <td>জীবনের গতির কথা ভাবলে পা দুটোর গতিও থেমে রয়,, ...</td>\n",
              "      <td>Depressive</td>\n",
              "    </tr>\n",
              "    <tr>\n",
              "      <th>2</th>\n",
              "      <td>ফেলে আসা এক নদীর ধারে, খুজে বেড়াই আমি তারে! দে...</td>\n",
              "      <td>Depressive</td>\n",
              "    </tr>\n",
              "    <tr>\n",
              "      <th>3</th>\n",
              "      <td>আপনার হাসি বিশ্বের সাথে ভাগ করুন। এটি বন্ধুত্ব...</td>\n",
              "      <td>Non_Depressive</td>\n",
              "    </tr>\n",
              "    <tr>\n",
              "      <th>4</th>\n",
              "      <td>আপনি যা পরেন না তা আপনার হাসির চেয়ে গুরুত্বপূ...</td>\n",
              "      <td>Non_Depressive</td>\n",
              "    </tr>\n",
              "  </tbody>\n",
              "</table>\n",
              "</div>\n",
              "      <button class=\"colab-df-convert\" onclick=\"convertToInteractive('df-e825348c-b7dc-4552-bda8-09b91fa04322')\"\n",
              "              title=\"Convert this dataframe to an interactive table.\"\n",
              "              style=\"display:none;\">\n",
              "        \n",
              "  <svg xmlns=\"http://www.w3.org/2000/svg\" height=\"24px\"viewBox=\"0 0 24 24\"\n",
              "       width=\"24px\">\n",
              "    <path d=\"M0 0h24v24H0V0z\" fill=\"none\"/>\n",
              "    <path d=\"M18.56 5.44l.94 2.06.94-2.06 2.06-.94-2.06-.94-.94-2.06-.94 2.06-2.06.94zm-11 1L8.5 8.5l.94-2.06 2.06-.94-2.06-.94L8.5 2.5l-.94 2.06-2.06.94zm10 10l.94 2.06.94-2.06 2.06-.94-2.06-.94-.94-2.06-.94 2.06-2.06.94z\"/><path d=\"M17.41 7.96l-1.37-1.37c-.4-.4-.92-.59-1.43-.59-.52 0-1.04.2-1.43.59L10.3 9.45l-7.72 7.72c-.78.78-.78 2.05 0 2.83L4 21.41c.39.39.9.59 1.41.59.51 0 1.02-.2 1.41-.59l7.78-7.78 2.81-2.81c.8-.78.8-2.07 0-2.86zM5.41 20L4 18.59l7.72-7.72 1.47 1.35L5.41 20z\"/>\n",
              "  </svg>\n",
              "      </button>\n",
              "      \n",
              "  <style>\n",
              "    .colab-df-container {\n",
              "      display:flex;\n",
              "      flex-wrap:wrap;\n",
              "      gap: 12px;\n",
              "    }\n",
              "\n",
              "    .colab-df-convert {\n",
              "      background-color: #E8F0FE;\n",
              "      border: none;\n",
              "      border-radius: 50%;\n",
              "      cursor: pointer;\n",
              "      display: none;\n",
              "      fill: #1967D2;\n",
              "      height: 32px;\n",
              "      padding: 0 0 0 0;\n",
              "      width: 32px;\n",
              "    }\n",
              "\n",
              "    .colab-df-convert:hover {\n",
              "      background-color: #E2EBFA;\n",
              "      box-shadow: 0px 1px 2px rgba(60, 64, 67, 0.3), 0px 1px 3px 1px rgba(60, 64, 67, 0.15);\n",
              "      fill: #174EA6;\n",
              "    }\n",
              "\n",
              "    [theme=dark] .colab-df-convert {\n",
              "      background-color: #3B4455;\n",
              "      fill: #D2E3FC;\n",
              "    }\n",
              "\n",
              "    [theme=dark] .colab-df-convert:hover {\n",
              "      background-color: #434B5C;\n",
              "      box-shadow: 0px 1px 3px 1px rgba(0, 0, 0, 0.15);\n",
              "      filter: drop-shadow(0px 1px 2px rgba(0, 0, 0, 0.3));\n",
              "      fill: #FFFFFF;\n",
              "    }\n",
              "  </style>\n",
              "\n",
              "      <script>\n",
              "        const buttonEl =\n",
              "          document.querySelector('#df-e825348c-b7dc-4552-bda8-09b91fa04322 button.colab-df-convert');\n",
              "        buttonEl.style.display =\n",
              "          google.colab.kernel.accessAllowed ? 'block' : 'none';\n",
              "\n",
              "        async function convertToInteractive(key) {\n",
              "          const element = document.querySelector('#df-e825348c-b7dc-4552-bda8-09b91fa04322');\n",
              "          const dataTable =\n",
              "            await google.colab.kernel.invokeFunction('convertToInteractive',\n",
              "                                                     [key], {});\n",
              "          if (!dataTable) return;\n",
              "\n",
              "          const docLinkHtml = 'Like what you see? Visit the ' +\n",
              "            '<a target=\"_blank\" href=https://colab.research.google.com/notebooks/data_table.ipynb>data table notebook</a>'\n",
              "            + ' to learn more about interactive tables.';\n",
              "          element.innerHTML = '';\n",
              "          dataTable['output_type'] = 'display_data';\n",
              "          await google.colab.output.renderOutput(dataTable, element);\n",
              "          const docLink = document.createElement('div');\n",
              "          docLink.innerHTML = docLinkHtml;\n",
              "          element.appendChild(docLink);\n",
              "        }\n",
              "      </script>\n",
              "    </div>\n",
              "  </div>\n",
              "  "
            ]
          },
          "metadata": {},
          "execution_count": 2
        }
      ]
    },
    {
      "cell_type": "code",
      "source": [
        "df.isnull().sum()"
      ],
      "metadata": {
        "colab": {
          "base_uri": "https://localhost:8080/"
        },
        "id": "k1OOH9ZyD9BS",
        "outputId": "41fdb4f8-0cba-4ba9-b2a2-64f47d56e9a4"
      },
      "execution_count": null,
      "outputs": [
        {
          "output_type": "execute_result",
          "data": {
            "text/plain": [
              "Bangla_Text            0\n",
              "Depression_Analysis    0\n",
              "dtype: int64"
            ]
          },
          "metadata": {},
          "execution_count": 3
        }
      ]
    },
    {
      "cell_type": "code",
      "source": [
        "df.dropna()"
      ],
      "metadata": {
        "colab": {
          "base_uri": "https://localhost:8080/",
          "height": 424
        },
        "id": "LC2Ar1aWEZKQ",
        "outputId": "d378e201-0131-444b-8d0f-16aec217f5cc"
      },
      "execution_count": null,
      "outputs": [
        {
          "output_type": "execute_result",
          "data": {
            "text/plain": [
              "                                            Bangla_Text Depression_Analysis\n",
              "0       আজ বলবো কি যে তোমায় তুমি অনেক ভালো থেকো আমি ...          Depressive\n",
              "1     জীবনের গতির কথা ভাবলে পা দুটোর গতিও থেমে রয়,, ...          Depressive\n",
              "2     ফেলে আসা এক নদীর ধারে, খুজে বেড়াই আমি তারে! দে...          Depressive\n",
              "3     আপনার হাসি বিশ্বের সাথে ভাগ করুন। এটি বন্ধুত্ব...      Non_Depressive\n",
              "4     আপনি যা পরেন না তা আপনার হাসির চেয়ে গুরুত্বপূ...      Non_Depressive\n",
              "...                                                 ...                 ...\n",
              "1735        যে মানুষ ভূল করে না বস্তুবে সে কিছুই করে না      Non_Depressive\n",
              "1736  নিষ্ঠার সাথে পরিচর্য়া করলে জীবনের লালিত্য বৃদ্...      Non_Depressive\n",
              "1737  জীবন এমন একটা স্তম্ভ, যা আমারা একা বহন করতে পা...      Non_Depressive\n",
              "1738                           জীবন মানে অনিশ্চিৎ ভ্রমণ      Non_Depressive\n",
              "1739  মানুষের জীবনের বড় শত্রু হলো তার সংশয়, অবিশ্বাস...      Non_Depressive\n",
              "\n",
              "[1740 rows x 2 columns]"
            ],
            "text/html": [
              "\n",
              "  <div id=\"df-9b6b6432-5e58-434e-8241-8d32c320a019\">\n",
              "    <div class=\"colab-df-container\">\n",
              "      <div>\n",
              "<style scoped>\n",
              "    .dataframe tbody tr th:only-of-type {\n",
              "        vertical-align: middle;\n",
              "    }\n",
              "\n",
              "    .dataframe tbody tr th {\n",
              "        vertical-align: top;\n",
              "    }\n",
              "\n",
              "    .dataframe thead th {\n",
              "        text-align: right;\n",
              "    }\n",
              "</style>\n",
              "<table border=\"1\" class=\"dataframe\">\n",
              "  <thead>\n",
              "    <tr style=\"text-align: right;\">\n",
              "      <th></th>\n",
              "      <th>Bangla_Text</th>\n",
              "      <th>Depression_Analysis</th>\n",
              "    </tr>\n",
              "  </thead>\n",
              "  <tbody>\n",
              "    <tr>\n",
              "      <th>0</th>\n",
              "      <td>আজ বলবো কি যে তোমায় তুমি অনেক ভালো থেকো আমি ...</td>\n",
              "      <td>Depressive</td>\n",
              "    </tr>\n",
              "    <tr>\n",
              "      <th>1</th>\n",
              "      <td>জীবনের গতির কথা ভাবলে পা দুটোর গতিও থেমে রয়,, ...</td>\n",
              "      <td>Depressive</td>\n",
              "    </tr>\n",
              "    <tr>\n",
              "      <th>2</th>\n",
              "      <td>ফেলে আসা এক নদীর ধারে, খুজে বেড়াই আমি তারে! দে...</td>\n",
              "      <td>Depressive</td>\n",
              "    </tr>\n",
              "    <tr>\n",
              "      <th>3</th>\n",
              "      <td>আপনার হাসি বিশ্বের সাথে ভাগ করুন। এটি বন্ধুত্ব...</td>\n",
              "      <td>Non_Depressive</td>\n",
              "    </tr>\n",
              "    <tr>\n",
              "      <th>4</th>\n",
              "      <td>আপনি যা পরেন না তা আপনার হাসির চেয়ে গুরুত্বপূ...</td>\n",
              "      <td>Non_Depressive</td>\n",
              "    </tr>\n",
              "    <tr>\n",
              "      <th>...</th>\n",
              "      <td>...</td>\n",
              "      <td>...</td>\n",
              "    </tr>\n",
              "    <tr>\n",
              "      <th>1735</th>\n",
              "      <td>যে মানুষ ভূল করে না বস্তুবে সে কিছুই করে না</td>\n",
              "      <td>Non_Depressive</td>\n",
              "    </tr>\n",
              "    <tr>\n",
              "      <th>1736</th>\n",
              "      <td>নিষ্ঠার সাথে পরিচর্য়া করলে জীবনের লালিত্য বৃদ্...</td>\n",
              "      <td>Non_Depressive</td>\n",
              "    </tr>\n",
              "    <tr>\n",
              "      <th>1737</th>\n",
              "      <td>জীবন এমন একটা স্তম্ভ, যা আমারা একা বহন করতে পা...</td>\n",
              "      <td>Non_Depressive</td>\n",
              "    </tr>\n",
              "    <tr>\n",
              "      <th>1738</th>\n",
              "      <td>জীবন মানে অনিশ্চিৎ ভ্রমণ</td>\n",
              "      <td>Non_Depressive</td>\n",
              "    </tr>\n",
              "    <tr>\n",
              "      <th>1739</th>\n",
              "      <td>মানুষের জীবনের বড় শত্রু হলো তার সংশয়, অবিশ্বাস...</td>\n",
              "      <td>Non_Depressive</td>\n",
              "    </tr>\n",
              "  </tbody>\n",
              "</table>\n",
              "<p>1740 rows × 2 columns</p>\n",
              "</div>\n",
              "      <button class=\"colab-df-convert\" onclick=\"convertToInteractive('df-9b6b6432-5e58-434e-8241-8d32c320a019')\"\n",
              "              title=\"Convert this dataframe to an interactive table.\"\n",
              "              style=\"display:none;\">\n",
              "        \n",
              "  <svg xmlns=\"http://www.w3.org/2000/svg\" height=\"24px\"viewBox=\"0 0 24 24\"\n",
              "       width=\"24px\">\n",
              "    <path d=\"M0 0h24v24H0V0z\" fill=\"none\"/>\n",
              "    <path d=\"M18.56 5.44l.94 2.06.94-2.06 2.06-.94-2.06-.94-.94-2.06-.94 2.06-2.06.94zm-11 1L8.5 8.5l.94-2.06 2.06-.94-2.06-.94L8.5 2.5l-.94 2.06-2.06.94zm10 10l.94 2.06.94-2.06 2.06-.94-2.06-.94-.94-2.06-.94 2.06-2.06.94z\"/><path d=\"M17.41 7.96l-1.37-1.37c-.4-.4-.92-.59-1.43-.59-.52 0-1.04.2-1.43.59L10.3 9.45l-7.72 7.72c-.78.78-.78 2.05 0 2.83L4 21.41c.39.39.9.59 1.41.59.51 0 1.02-.2 1.41-.59l7.78-7.78 2.81-2.81c.8-.78.8-2.07 0-2.86zM5.41 20L4 18.59l7.72-7.72 1.47 1.35L5.41 20z\"/>\n",
              "  </svg>\n",
              "      </button>\n",
              "      \n",
              "  <style>\n",
              "    .colab-df-container {\n",
              "      display:flex;\n",
              "      flex-wrap:wrap;\n",
              "      gap: 12px;\n",
              "    }\n",
              "\n",
              "    .colab-df-convert {\n",
              "      background-color: #E8F0FE;\n",
              "      border: none;\n",
              "      border-radius: 50%;\n",
              "      cursor: pointer;\n",
              "      display: none;\n",
              "      fill: #1967D2;\n",
              "      height: 32px;\n",
              "      padding: 0 0 0 0;\n",
              "      width: 32px;\n",
              "    }\n",
              "\n",
              "    .colab-df-convert:hover {\n",
              "      background-color: #E2EBFA;\n",
              "      box-shadow: 0px 1px 2px rgba(60, 64, 67, 0.3), 0px 1px 3px 1px rgba(60, 64, 67, 0.15);\n",
              "      fill: #174EA6;\n",
              "    }\n",
              "\n",
              "    [theme=dark] .colab-df-convert {\n",
              "      background-color: #3B4455;\n",
              "      fill: #D2E3FC;\n",
              "    }\n",
              "\n",
              "    [theme=dark] .colab-df-convert:hover {\n",
              "      background-color: #434B5C;\n",
              "      box-shadow: 0px 1px 3px 1px rgba(0, 0, 0, 0.15);\n",
              "      filter: drop-shadow(0px 1px 2px rgba(0, 0, 0, 0.3));\n",
              "      fill: #FFFFFF;\n",
              "    }\n",
              "  </style>\n",
              "\n",
              "      <script>\n",
              "        const buttonEl =\n",
              "          document.querySelector('#df-9b6b6432-5e58-434e-8241-8d32c320a019 button.colab-df-convert');\n",
              "        buttonEl.style.display =\n",
              "          google.colab.kernel.accessAllowed ? 'block' : 'none';\n",
              "\n",
              "        async function convertToInteractive(key) {\n",
              "          const element = document.querySelector('#df-9b6b6432-5e58-434e-8241-8d32c320a019');\n",
              "          const dataTable =\n",
              "            await google.colab.kernel.invokeFunction('convertToInteractive',\n",
              "                                                     [key], {});\n",
              "          if (!dataTable) return;\n",
              "\n",
              "          const docLinkHtml = 'Like what you see? Visit the ' +\n",
              "            '<a target=\"_blank\" href=https://colab.research.google.com/notebooks/data_table.ipynb>data table notebook</a>'\n",
              "            + ' to learn more about interactive tables.';\n",
              "          element.innerHTML = '';\n",
              "          dataTable['output_type'] = 'display_data';\n",
              "          await google.colab.output.renderOutput(dataTable, element);\n",
              "          const docLink = document.createElement('div');\n",
              "          docLink.innerHTML = docLinkHtml;\n",
              "          element.appendChild(docLink);\n",
              "        }\n",
              "      </script>\n",
              "    </div>\n",
              "  </div>\n",
              "  "
            ]
          },
          "metadata": {},
          "execution_count": 4
        }
      ]
    },
    {
      "cell_type": "code",
      "source": [
        "from sklearn.preprocessing import LabelEncoder"
      ],
      "metadata": {
        "id": "o5LZvxIXUUvG"
      },
      "execution_count": null,
      "outputs": []
    },
    {
      "cell_type": "code",
      "source": [
        "df['Depression_Analysis'].value_counts()"
      ],
      "metadata": {
        "colab": {
          "base_uri": "https://localhost:8080/"
        },
        "id": "l5erEupxaSyo",
        "outputId": "5a4b5a40-0805-4e0c-a6b1-e72c360672a1"
      },
      "execution_count": null,
      "outputs": [
        {
          "output_type": "execute_result",
          "data": {
            "text/plain": [
              "Depressive        870\n",
              "Non_Depressive    870\n",
              "Name: Depression_Analysis, dtype: int64"
            ]
          },
          "metadata": {},
          "execution_count": 6
        }
      ]
    },
    {
      "cell_type": "code",
      "source": [
        "lb = LabelEncoder()"
      ],
      "metadata": {
        "id": "sv8tkvGVbV3y"
      },
      "execution_count": null,
      "outputs": []
    },
    {
      "cell_type": "code",
      "source": [
        "df[['Depression_Analysis']]=df[['Depression_Analysis']].apply(lb.fit_transform)"
      ],
      "metadata": {
        "id": "EvTvbuDzb_jc"
      },
      "execution_count": null,
      "outputs": []
    },
    {
      "cell_type": "code",
      "source": [
        "df['Depression_Analysis'].value_counts()"
      ],
      "metadata": {
        "colab": {
          "base_uri": "https://localhost:8080/"
        },
        "id": "dPPWphmugqIm",
        "outputId": "a3db78d9-cec4-47cf-8c58-4067470c4b04"
      },
      "execution_count": null,
      "outputs": [
        {
          "output_type": "execute_result",
          "data": {
            "text/plain": [
              "0    870\n",
              "1    870\n",
              "Name: Depression_Analysis, dtype: int64"
            ]
          },
          "metadata": {},
          "execution_count": 9
        }
      ]
    },
    {
      "cell_type": "code",
      "source": [
        "df"
      ],
      "metadata": {
        "colab": {
          "base_uri": "https://localhost:8080/",
          "height": 424
        },
        "id": "Kw6yIGHdVOsf",
        "outputId": "36784107-097a-4cda-f294-d0d03b0bf8e8"
      },
      "execution_count": null,
      "outputs": [
        {
          "output_type": "execute_result",
          "data": {
            "text/plain": [
              "                                            Bangla_Text  Depression_Analysis\n",
              "0       আজ বলবো কি যে তোমায় তুমি অনেক ভালো থেকো আমি ...                    0\n",
              "1     জীবনের গতির কথা ভাবলে পা দুটোর গতিও থেমে রয়,, ...                    0\n",
              "2     ফেলে আসা এক নদীর ধারে, খুজে বেড়াই আমি তারে! দে...                    0\n",
              "3     আপনার হাসি বিশ্বের সাথে ভাগ করুন। এটি বন্ধুত্ব...                    1\n",
              "4     আপনি যা পরেন না তা আপনার হাসির চেয়ে গুরুত্বপূ...                    1\n",
              "...                                                 ...                  ...\n",
              "1735        যে মানুষ ভূল করে না বস্তুবে সে কিছুই করে না                    1\n",
              "1736  নিষ্ঠার সাথে পরিচর্য়া করলে জীবনের লালিত্য বৃদ্...                    1\n",
              "1737  জীবন এমন একটা স্তম্ভ, যা আমারা একা বহন করতে পা...                    1\n",
              "1738                           জীবন মানে অনিশ্চিৎ ভ্রমণ                    1\n",
              "1739  মানুষের জীবনের বড় শত্রু হলো তার সংশয়, অবিশ্বাস...                    1\n",
              "\n",
              "[1740 rows x 2 columns]"
            ],
            "text/html": [
              "\n",
              "  <div id=\"df-180d89d2-7cfb-413d-81c9-f6bf86e9d6ae\">\n",
              "    <div class=\"colab-df-container\">\n",
              "      <div>\n",
              "<style scoped>\n",
              "    .dataframe tbody tr th:only-of-type {\n",
              "        vertical-align: middle;\n",
              "    }\n",
              "\n",
              "    .dataframe tbody tr th {\n",
              "        vertical-align: top;\n",
              "    }\n",
              "\n",
              "    .dataframe thead th {\n",
              "        text-align: right;\n",
              "    }\n",
              "</style>\n",
              "<table border=\"1\" class=\"dataframe\">\n",
              "  <thead>\n",
              "    <tr style=\"text-align: right;\">\n",
              "      <th></th>\n",
              "      <th>Bangla_Text</th>\n",
              "      <th>Depression_Analysis</th>\n",
              "    </tr>\n",
              "  </thead>\n",
              "  <tbody>\n",
              "    <tr>\n",
              "      <th>0</th>\n",
              "      <td>আজ বলবো কি যে তোমায় তুমি অনেক ভালো থেকো আমি ...</td>\n",
              "      <td>0</td>\n",
              "    </tr>\n",
              "    <tr>\n",
              "      <th>1</th>\n",
              "      <td>জীবনের গতির কথা ভাবলে পা দুটোর গতিও থেমে রয়,, ...</td>\n",
              "      <td>0</td>\n",
              "    </tr>\n",
              "    <tr>\n",
              "      <th>2</th>\n",
              "      <td>ফেলে আসা এক নদীর ধারে, খুজে বেড়াই আমি তারে! দে...</td>\n",
              "      <td>0</td>\n",
              "    </tr>\n",
              "    <tr>\n",
              "      <th>3</th>\n",
              "      <td>আপনার হাসি বিশ্বের সাথে ভাগ করুন। এটি বন্ধুত্ব...</td>\n",
              "      <td>1</td>\n",
              "    </tr>\n",
              "    <tr>\n",
              "      <th>4</th>\n",
              "      <td>আপনি যা পরেন না তা আপনার হাসির চেয়ে গুরুত্বপূ...</td>\n",
              "      <td>1</td>\n",
              "    </tr>\n",
              "    <tr>\n",
              "      <th>...</th>\n",
              "      <td>...</td>\n",
              "      <td>...</td>\n",
              "    </tr>\n",
              "    <tr>\n",
              "      <th>1735</th>\n",
              "      <td>যে মানুষ ভূল করে না বস্তুবে সে কিছুই করে না</td>\n",
              "      <td>1</td>\n",
              "    </tr>\n",
              "    <tr>\n",
              "      <th>1736</th>\n",
              "      <td>নিষ্ঠার সাথে পরিচর্য়া করলে জীবনের লালিত্য বৃদ্...</td>\n",
              "      <td>1</td>\n",
              "    </tr>\n",
              "    <tr>\n",
              "      <th>1737</th>\n",
              "      <td>জীবন এমন একটা স্তম্ভ, যা আমারা একা বহন করতে পা...</td>\n",
              "      <td>1</td>\n",
              "    </tr>\n",
              "    <tr>\n",
              "      <th>1738</th>\n",
              "      <td>জীবন মানে অনিশ্চিৎ ভ্রমণ</td>\n",
              "      <td>1</td>\n",
              "    </tr>\n",
              "    <tr>\n",
              "      <th>1739</th>\n",
              "      <td>মানুষের জীবনের বড় শত্রু হলো তার সংশয়, অবিশ্বাস...</td>\n",
              "      <td>1</td>\n",
              "    </tr>\n",
              "  </tbody>\n",
              "</table>\n",
              "<p>1740 rows × 2 columns</p>\n",
              "</div>\n",
              "      <button class=\"colab-df-convert\" onclick=\"convertToInteractive('df-180d89d2-7cfb-413d-81c9-f6bf86e9d6ae')\"\n",
              "              title=\"Convert this dataframe to an interactive table.\"\n",
              "              style=\"display:none;\">\n",
              "        \n",
              "  <svg xmlns=\"http://www.w3.org/2000/svg\" height=\"24px\"viewBox=\"0 0 24 24\"\n",
              "       width=\"24px\">\n",
              "    <path d=\"M0 0h24v24H0V0z\" fill=\"none\"/>\n",
              "    <path d=\"M18.56 5.44l.94 2.06.94-2.06 2.06-.94-2.06-.94-.94-2.06-.94 2.06-2.06.94zm-11 1L8.5 8.5l.94-2.06 2.06-.94-2.06-.94L8.5 2.5l-.94 2.06-2.06.94zm10 10l.94 2.06.94-2.06 2.06-.94-2.06-.94-.94-2.06-.94 2.06-2.06.94z\"/><path d=\"M17.41 7.96l-1.37-1.37c-.4-.4-.92-.59-1.43-.59-.52 0-1.04.2-1.43.59L10.3 9.45l-7.72 7.72c-.78.78-.78 2.05 0 2.83L4 21.41c.39.39.9.59 1.41.59.51 0 1.02-.2 1.41-.59l7.78-7.78 2.81-2.81c.8-.78.8-2.07 0-2.86zM5.41 20L4 18.59l7.72-7.72 1.47 1.35L5.41 20z\"/>\n",
              "  </svg>\n",
              "      </button>\n",
              "      \n",
              "  <style>\n",
              "    .colab-df-container {\n",
              "      display:flex;\n",
              "      flex-wrap:wrap;\n",
              "      gap: 12px;\n",
              "    }\n",
              "\n",
              "    .colab-df-convert {\n",
              "      background-color: #E8F0FE;\n",
              "      border: none;\n",
              "      border-radius: 50%;\n",
              "      cursor: pointer;\n",
              "      display: none;\n",
              "      fill: #1967D2;\n",
              "      height: 32px;\n",
              "      padding: 0 0 0 0;\n",
              "      width: 32px;\n",
              "    }\n",
              "\n",
              "    .colab-df-convert:hover {\n",
              "      background-color: #E2EBFA;\n",
              "      box-shadow: 0px 1px 2px rgba(60, 64, 67, 0.3), 0px 1px 3px 1px rgba(60, 64, 67, 0.15);\n",
              "      fill: #174EA6;\n",
              "    }\n",
              "\n",
              "    [theme=dark] .colab-df-convert {\n",
              "      background-color: #3B4455;\n",
              "      fill: #D2E3FC;\n",
              "    }\n",
              "\n",
              "    [theme=dark] .colab-df-convert:hover {\n",
              "      background-color: #434B5C;\n",
              "      box-shadow: 0px 1px 3px 1px rgba(0, 0, 0, 0.15);\n",
              "      filter: drop-shadow(0px 1px 2px rgba(0, 0, 0, 0.3));\n",
              "      fill: #FFFFFF;\n",
              "    }\n",
              "  </style>\n",
              "\n",
              "      <script>\n",
              "        const buttonEl =\n",
              "          document.querySelector('#df-180d89d2-7cfb-413d-81c9-f6bf86e9d6ae button.colab-df-convert');\n",
              "        buttonEl.style.display =\n",
              "          google.colab.kernel.accessAllowed ? 'block' : 'none';\n",
              "\n",
              "        async function convertToInteractive(key) {\n",
              "          const element = document.querySelector('#df-180d89d2-7cfb-413d-81c9-f6bf86e9d6ae');\n",
              "          const dataTable =\n",
              "            await google.colab.kernel.invokeFunction('convertToInteractive',\n",
              "                                                     [key], {});\n",
              "          if (!dataTable) return;\n",
              "\n",
              "          const docLinkHtml = 'Like what you see? Visit the ' +\n",
              "            '<a target=\"_blank\" href=https://colab.research.google.com/notebooks/data_table.ipynb>data table notebook</a>'\n",
              "            + ' to learn more about interactive tables.';\n",
              "          element.innerHTML = '';\n",
              "          dataTable['output_type'] = 'display_data';\n",
              "          await google.colab.output.renderOutput(dataTable, element);\n",
              "          const docLink = document.createElement('div');\n",
              "          docLink.innerHTML = docLinkHtml;\n",
              "          element.appendChild(docLink);\n",
              "        }\n",
              "      </script>\n",
              "    </div>\n",
              "  </div>\n",
              "  "
            ]
          },
          "metadata": {},
          "execution_count": 10
        }
      ]
    },
    {
      "cell_type": "code",
      "source": [
        "import matplotlib.pyplot as plt\n",
        "import seaborn as sns\n",
        "%matplotlib inline"
      ],
      "metadata": {
        "id": "qsTWslBAEkAB"
      },
      "execution_count": null,
      "outputs": []
    },
    {
      "cell_type": "code",
      "source": [
        "#df['length'] = df['Bangla_Text'].str.split().apply(len)\n",
        "#df.head(20)"
      ],
      "metadata": {
        "id": "ZNh7xuINE6ys"
      },
      "execution_count": null,
      "outputs": []
    },
    {
      "cell_type": "code",
      "source": [
        "#df.length.describe()"
      ],
      "metadata": {
        "id": "0uoWB7PNFIb0"
      },
      "execution_count": null,
      "outputs": []
    },
    {
      "cell_type": "code",
      "source": [
        "import string\n",
        "def remove_punc(s):\n",
        "    table = str.maketrans({key: None for key in string.punctuation})\n",
        "    return s.translate(table)"
      ],
      "metadata": {
        "id": "cUPE3N8lFpNC"
      },
      "execution_count": null,
      "outputs": []
    },
    {
      "cell_type": "code",
      "source": [
        "x = df['Bangla_Text'].fillna(' ')\n",
        "y = df['Depression_Analysis']\n",
        "print(x.head())\n",
        "print(y.head())"
      ],
      "metadata": {
        "colab": {
          "base_uri": "https://localhost:8080/"
        },
        "id": "beRRLUc1NJlE",
        "outputId": "37f65a09-0b9a-46c7-e393-dfdd48fc949c"
      },
      "execution_count": null,
      "outputs": [
        {
          "output_type": "stream",
          "name": "stdout",
          "text": [
            "0      আজ বলবো কি যে তোমায় তুমি অনেক ভালো থেকো আমি ...\n",
            "1    জীবনের গতির কথা ভাবলে পা দুটোর গতিও থেমে রয়,, ...\n",
            "2    ফেলে আসা এক নদীর ধারে, খুজে বেড়াই আমি তারে! দে...\n",
            "3    আপনার হাসি বিশ্বের সাথে ভাগ করুন। এটি বন্ধুত্ব...\n",
            "4    আপনি যা পরেন না তা আপনার হাসির চেয়ে গুরুত্বপূ...\n",
            "Name: Bangla_Text, dtype: object\n",
            "0    0\n",
            "1    0\n",
            "2    0\n",
            "3    1\n",
            "4    1\n",
            "Name: Depression_Analysis, dtype: int64\n"
          ]
        }
      ]
    },
    {
      "cell_type": "code",
      "source": [
        "x = df['Bangla_Text'].apply(remove_punc)\n",
        "x.shape"
      ],
      "metadata": {
        "colab": {
          "base_uri": "https://localhost:8080/"
        },
        "id": "9zBTFXQrNcV3",
        "outputId": "8d219cc2-8c06-4672-b11a-3e146a028a25"
      },
      "execution_count": null,
      "outputs": [
        {
          "output_type": "execute_result",
          "data": {
            "text/plain": [
              "(1740,)"
            ]
          },
          "metadata": {},
          "execution_count": 16
        }
      ]
    },
    {
      "cell_type": "code",
      "source": [
        "contractions = {\n",
        "  \"বি.দ্র \": \"বিশেষ দ্রষ্টব্য\",\n",
        "  \"ড.\": \"ডক্টর\",\n",
        "  \"ডা.\": \"ডাক্তার\",\n",
        "  \"ইঞ্জি:\": \"ইঞ্জিনিয়ার\",\n",
        "  \"রেজি:\": \"রেজিস্ট্রেশন\",\n",
        "  \"মি.\": \"মিস্টার\",\n",
        "  \"মু.\": \"মুহাম্মদ\",\n",
        "  \"মো.\": \"মোহাম্মদ\",\n",
        "  }\n"
      ],
      "metadata": {
        "id": "Lh1onps-NotT"
      },
      "execution_count": null,
      "outputs": []
    },
    {
      "cell_type": "code",
      "source": [
        "import re\n",
        "import string\n",
        "from collections import Counter\n",
        "vocab = Counter()\n",
        "def clean_text(x,remove_stopwords = False):\n",
        "    if True:\n",
        "        new_text = []\n",
        "        for word in x:\n",
        "            if word in contractions:\n",
        "                new_text.append(contractions[word])\n",
        "            else:\n",
        "                new_text.append(word)\n",
        "        x = \"\".join(new_text)\n",
        "    # Format words and remove unwanted characters\n",
        "    whitespace = re.compile(u\"[\\s\\u0020\\u00a0\\u1680\\u180e\\u202f\\u205f\\u3000\\u2000-\\u200a]+\", re.UNICODE)\n",
        "    bangla_digits = u\"[\\u09E6\\u09E7\\u09E8\\u09E9\\u09EA\\u09EB\\u09EC\\u09ED\\u09EE\\u09EF]+\"\n",
        "    english_chars = u\"[a-zA-Z0-9]\"\n",
        "    punc = u\"[(),$%^&*+={}\\[\\]:\\\"|\\'\\~`<>/,€¦!?½£¶™¼©⅐⅑⅒⅓⅔⅕⅖⅗⅘⅙⅚⅛⅜⅝⅞⅟↉¤¿º;-]+\"\n",
        "    bangla_fullstop = u\"\\u0964\"     #bangla fullstop(dari)\n",
        "    punctSeq   = u\"['\\\"“”‘’]+|[.?!,…]+|[:;]+\"\n",
        "\n",
        "    x = re.sub(bangla_digits, \" \", x)\n",
        "    x = re.sub(punc, \" \", x)\n",
        "    x = re.sub(english_chars, \" \", x)\n",
        "    x = re.sub(bangla_fullstop, \" \", x)\n",
        "    x = re.sub(punctSeq, \" \", x)\n",
        "    x = whitespace.sub(\" \", x).strip()\n",
        "\n",
        "    x = re.sub(r'https?:\\/\\/.*[\\r\\n]*', '', x, flags=re.MULTILINE)\n",
        "    x = re.sub(r'\\<a href', ' ', x)\n",
        "    x = re.sub(r'&amp;‘:‘ ’', '', x)\n",
        "    x = re.sub(r'[_\"\\-;%()|+&=*%.,!?:#$@\\[\\]/]। ,', ' ', x)\n",
        "    x = re.sub(r'<br />', ' ', x)\n",
        "    x = re.sub(r'\\'', ' ', x)\n",
        "    x = re.sub(r\"[\\@$#%~+-\\.\\'।\\\"]\",\" \",x)\n",
        "    x = re.sub(r\"(?m)^\\s+\", \"\", x)\n",
        "    x = re.sub(\"[()]\",\"\",x)\n",
        "    x = re.sub(\"[‘’]\",\"\",x)\n",
        "    x = re.sub(\"[!]\",\"\",x)\n",
        "    x = re.sub(\"[/]\",\"\",x)\n",
        "    x = re.sub(\"[:]\",\"\",x)\n",
        "    x = re.sub('\\ |\\?|\\.|\\!|\\/|\\;|\\:', ' ',x)\n",
        "    x = x.strip(\"/\")\n",
        "\n",
        "    if remove_stopwords:\n",
        "        k = []\n",
        "        with open('/content/Banglastopword.txt', 'r',encoding=\"utf-8\") as f:\n",
        "            for word in f:\n",
        "                word = word.split()\n",
        "                k.append(word[0])\n",
        "            x = [t for t in x if t not in k]\n",
        "            x = \"\".join(x)\n",
        "\n",
        "\n",
        "    return x"
      ],
      "metadata": {
        "id": "2NLTrQW2Nu-_"
      },
      "execution_count": null,
      "outputs": []
    },
    {
      "cell_type": "code",
      "source": [
        "import matplotlib.pyplot as plt\n",
        "import seaborn as sns\n",
        "import nltk\n",
        "from nltk.corpus import stopwords\n",
        "import string\n",
        "import math\n",
        "from sklearn.feature_extraction.text import CountVectorizer\n",
        "from sklearn.model_selection import train_test_split, cross_val_score\n",
        "from sklearn.metrics import classification_report\n",
        "from sklearn.metrics import confusion_matrix, accuracy_score, roc_auc_score, roc_curve\n",
        "from sklearn.model_selection import GridSearchCV\n",
        "from sklearn import metrics\n",
        "%matplotlib inline"
      ],
      "metadata": {
        "id": "6lS5GHNJQu1U"
      },
      "execution_count": null,
      "outputs": []
    },
    {
      "cell_type": "code",
      "source": [
        "vocab = CountVectorizer(analyzer=clean_text,encoding='utf-8').fit(x)"
      ],
      "metadata": {
        "id": "dmn_HKP_QwGS"
      },
      "execution_count": null,
      "outputs": []
    },
    {
      "cell_type": "code",
      "source": [
        "print(len(vocab.vocabulary_))"
      ],
      "metadata": {
        "colab": {
          "base_uri": "https://localhost:8080/"
        },
        "id": "84HKfuY2Q2sc",
        "outputId": "e366383b-2db5-4bae-dee9-516d2905c519"
      },
      "execution_count": null,
      "outputs": [
        {
          "output_type": "stream",
          "name": "stdout",
          "text": [
            "67\n"
          ]
        }
      ]
    },
    {
      "cell_type": "code",
      "source": [
        "r0 = x[87]\n",
        "print(r0)"
      ],
      "metadata": {
        "colab": {
          "base_uri": "https://localhost:8080/"
        },
        "id": "s550LdFqQ7NW",
        "outputId": "e5beb43d-6b5a-4181-814c-673360d1b356"
      },
      "execution_count": null,
      "outputs": [
        {
          "output_type": "stream",
          "name": "stdout",
          "text": [
            "আমি সত্যিই ব্যার্থ  কারণ আমি কখনোই \n",
            " তোমাকে বুঝাতে পারি নাই আমি \n",
            " তোমাকে কতটা ভালবাসি\n"
          ]
        }
      ]
    },
    {
      "cell_type": "code",
      "source": [
        "#vocab0 = vocab.transform([r0])\n",
        "#print(vocab0)"
      ],
      "metadata": {
        "id": "CYqGDRDYRAZm"
      },
      "execution_count": null,
      "outputs": []
    },
    {
      "cell_type": "code",
      "source": [
        "#print(vocab.get_feature_names()[50])\n",
        "#print(vocab.get_feature_names()[50])"
      ],
      "metadata": {
        "id": "sS-ztdbWRI-D"
      },
      "execution_count": null,
      "outputs": []
    },
    {
      "cell_type": "code",
      "source": [
        "x = vocab.transform(x)"
      ],
      "metadata": {
        "id": "oPsmDE42RWzI"
      },
      "execution_count": null,
      "outputs": []
    },
    {
      "cell_type": "code",
      "source": [
        "print(\"Shape of the sparse matrix: \", x.shape)\n",
        "print(\"Non-Zero occurences: \",x.nnz)\n",
        "density = (x.nnz/(x.shape[0]*x.shape[1]))*100\n",
        "print(\"Density of the matrix = \",density)"
      ],
      "metadata": {
        "colab": {
          "base_uri": "https://localhost:8080/"
        },
        "id": "SN9COazKRcSm",
        "outputId": "186e41ab-0a9c-4d00-9adb-47db7619d9b8"
      },
      "execution_count": null,
      "outputs": [
        {
          "output_type": "stream",
          "name": "stdout",
          "text": [
            "Shape of the sparse matrix:  (1740, 67)\n",
            "Non-Zero occurences:  43524\n",
            "Density of the matrix =  37.33401955738548\n"
          ]
        }
      ]
    },
    {
      "cell_type": "code",
      "source": [
        "x_train,x_test,y_train,y_test = train_test_split(x,y,test_size=0.3,random_state=101)"
      ],
      "metadata": {
        "id": "u-ShFS7XTJab"
      },
      "execution_count": null,
      "outputs": []
    },
    {
      "cell_type": "code",
      "source": [
        "from sklearn.naive_bayes import MultinomialNB\n",
        "mnb = MultinomialNB()\n",
        "mnb.fit(x_train,y_train)\n",
        "predmnb = mnb.predict(x_test)\n",
        "print(\"Confusion Matrix for Multinomial Naive Bayes:\")\n",
        "print(confusion_matrix(y_test,predmnb))\n",
        "print(\"Score:\",round(accuracy_score(y_test,predmnb)*100,2))\n",
        "print(\"Classification Report:\",classification_report(y_test,predmnb))"
      ],
      "metadata": {
        "colab": {
          "base_uri": "https://localhost:8080/"
        },
        "id": "7tQYnsIcTwn5",
        "outputId": "69b2c2d6-4d14-4338-c9ea-107a5a93bc7d"
      },
      "execution_count": null,
      "outputs": [
        {
          "output_type": "stream",
          "name": "stdout",
          "text": [
            "Confusion Matrix for Multinomial Naive Bayes:\n",
            "[[199  83]\n",
            " [ 85 155]]\n",
            "Score: 67.82\n",
            "Classification Report:               precision    recall  f1-score   support\n",
            "\n",
            "           0       0.70      0.71      0.70       282\n",
            "           1       0.65      0.65      0.65       240\n",
            "\n",
            "    accuracy                           0.68       522\n",
            "   macro avg       0.68      0.68      0.68       522\n",
            "weighted avg       0.68      0.68      0.68       522\n",
            "\n"
          ]
        }
      ]
    },
    {
      "cell_type": "code",
      "source": [
        "acc1=metrics.accuracy_score(y_test, predmnb)\n",
        "print(\"Accuracy:\",acc1*100,\"%\")"
      ],
      "metadata": {
        "colab": {
          "base_uri": "https://localhost:8080/"
        },
        "id": "-xgvCCwDi622",
        "outputId": "b930bb4a-d2f6-489d-da80-d802360e1626"
      },
      "execution_count": null,
      "outputs": [
        {
          "output_type": "stream",
          "name": "stdout",
          "text": [
            "Accuracy: 67.81609195402298 %\n"
          ]
        }
      ]
    },
    {
      "cell_type": "code",
      "source": [
        "from sklearn.ensemble import RandomForestClassifier\n",
        "rmfr = RandomForestClassifier()\n",
        "rmfr.fit(x_train,y_train)\n",
        "predrmfr = rmfr.predict(x_test)\n",
        "print(\"Confusion Matrix for Random Forest Classifier:\")\n",
        "print(confusion_matrix(y_test,predrmfr))\n",
        "print(\"Score:\",round(accuracy_score(y_test,predrmfr)*100,2))\n",
        "print(\"Classification Report:\",classification_report(y_test,predrmfr))"
      ],
      "metadata": {
        "colab": {
          "base_uri": "https://localhost:8080/"
        },
        "id": "cxVsliJSi9_R",
        "outputId": "7c4e6989-b3a5-4bf0-953e-6395b29d2f69"
      },
      "execution_count": null,
      "outputs": [
        {
          "output_type": "stream",
          "name": "stdout",
          "text": [
            "Confusion Matrix for Random Forest Classifier:\n",
            "[[201  81]\n",
            " [ 68 172]]\n",
            "Score: 71.46\n",
            "Classification Report:               precision    recall  f1-score   support\n",
            "\n",
            "           0       0.75      0.71      0.73       282\n",
            "           1       0.68      0.72      0.70       240\n",
            "\n",
            "    accuracy                           0.71       522\n",
            "   macro avg       0.71      0.71      0.71       522\n",
            "weighted avg       0.72      0.71      0.71       522\n",
            "\n"
          ]
        }
      ]
    },
    {
      "cell_type": "code",
      "source": [
        "acc2=metrics.accuracy_score(y_test,predrmfr)\n",
        "print(\"Accuracy:\",acc2*100,\"%\")"
      ],
      "metadata": {
        "colab": {
          "base_uri": "https://localhost:8080/"
        },
        "id": "r_cquwwbjCsp",
        "outputId": "120572be-4d98-4ff7-e5b3-8603692679b4"
      },
      "execution_count": null,
      "outputs": [
        {
          "output_type": "stream",
          "name": "stdout",
          "text": [
            "Accuracy: 71.455938697318 %\n"
          ]
        }
      ]
    },
    {
      "cell_type": "code",
      "source": [
        "from sklearn.tree import DecisionTreeClassifier\n",
        "dt = DecisionTreeClassifier()\n",
        "dt.fit(x_train,y_train)\n",
        "preddt = dt.predict(x_test)\n",
        "print(\"Confusion Matrix for Decision Tree:\")\n",
        "print(confusion_matrix(y_test,preddt))\n",
        "print(\"Score:\",round(accuracy_score(y_test,preddt)*100,2))\n",
        "print(\"Classification Report:\",classification_report(y_test,preddt))"
      ],
      "metadata": {
        "colab": {
          "base_uri": "https://localhost:8080/"
        },
        "id": "Zv89FuTpjGUv",
        "outputId": "b5368f2d-7dee-4251-84bf-9ad5e48740ee"
      },
      "execution_count": null,
      "outputs": [
        {
          "output_type": "stream",
          "name": "stdout",
          "text": [
            "Confusion Matrix for Decision Tree:\n",
            "[[174 108]\n",
            " [ 88 152]]\n",
            "Score: 62.45\n",
            "Classification Report:               precision    recall  f1-score   support\n",
            "\n",
            "           0       0.66      0.62      0.64       282\n",
            "           1       0.58      0.63      0.61       240\n",
            "\n",
            "    accuracy                           0.62       522\n",
            "   macro avg       0.62      0.63      0.62       522\n",
            "weighted avg       0.63      0.62      0.63       522\n",
            "\n"
          ]
        }
      ]
    },
    {
      "cell_type": "code",
      "source": [
        "acc3=metrics.accuracy_score(y_test,preddt)\n",
        "print(\"Accuracy:\",acc3*100,\"%\")"
      ],
      "metadata": {
        "colab": {
          "base_uri": "https://localhost:8080/"
        },
        "id": "Au2Vyr6ojKIT",
        "outputId": "f0c2a054-e2c5-4fff-b4fb-9fb913a4edb1"
      },
      "execution_count": null,
      "outputs": [
        {
          "output_type": "stream",
          "name": "stdout",
          "text": [
            "Accuracy: 62.45210727969349 %\n"
          ]
        }
      ]
    },
    {
      "cell_type": "code",
      "source": [
        "from sklearn.svm import SVC\n",
        "svm = SVC(random_state=101)\n",
        "svm.fit(x_train,y_train)\n",
        "predsvm = svm.predict(x_test)\n",
        "print(\"Confusion Matrix for Support Vector Machines:\")\n",
        "print(confusion_matrix(y_test,predsvm))\n",
        "print(\"Score:\",round(accuracy_score(y_test,predsvm)*100,2))\n",
        "print(\"Classification Report:\",classification_report(y_test,predsvm))"
      ],
      "metadata": {
        "colab": {
          "base_uri": "https://localhost:8080/"
        },
        "id": "Xj_xcA4ijNdj",
        "outputId": "be07b73f-9ad4-4ada-831f-449580600922"
      },
      "execution_count": null,
      "outputs": [
        {
          "output_type": "stream",
          "name": "stdout",
          "text": [
            "Confusion Matrix for Support Vector Machines:\n",
            "[[179 103]\n",
            " [ 54 186]]\n",
            "Score: 69.92\n",
            "Classification Report:               precision    recall  f1-score   support\n",
            "\n",
            "           0       0.77      0.63      0.70       282\n",
            "           1       0.64      0.78      0.70       240\n",
            "\n",
            "    accuracy                           0.70       522\n",
            "   macro avg       0.71      0.70      0.70       522\n",
            "weighted avg       0.71      0.70      0.70       522\n",
            "\n"
          ]
        }
      ]
    },
    {
      "cell_type": "code",
      "source": [
        "\n",
        "\n",
        "import pickle\n",
        "\n",
        "acc4=metrics.accuracy_score(y_test,predsvm)\n",
        "print(\"Accuracy:\",acc4*100,\"%\")\n",
        "\n"
      ],
      "metadata": {
        "colab": {
          "base_uri": "https://localhost:8080/"
        },
        "id": "gKBW40VzjR7g",
        "outputId": "9674d59a-5efe-40a4-e5c4-d51e1131c682"
      },
      "execution_count": null,
      "outputs": [
        {
          "output_type": "stream",
          "name": "stdout",
          "text": [
            "Accuracy: 69.92337164750958 %\n"
          ]
        }
      ]
    },
    {
      "cell_type": "code",
      "source": [
        "\n",
        "\n",
        "from sklearn.neighbors import KNeighborsClassifier\n",
        "knn = KNeighborsClassifier(n_neighbors=3)\n",
        "knn.fit(x_train,y_train)\n",
        "predknn = knn.predict(x_test)\n",
        "print(\"Confusion Matrix for K Neighbors Classifier:\")\n",
        "print(confusion_matrix(y_test,predknn))\n",
        "print(\"Score: \",round(accuracy_score(y_test,predknn)*100,2))\n",
        "print(\"Classification Report:\")\n",
        "print(classification_report(y_test,predknn))\n",
        "\n"
      ],
      "metadata": {
        "colab": {
          "base_uri": "https://localhost:8080/"
        },
        "id": "ZJ1TLM-IjYa7",
        "outputId": "5829e789-c3d3-4586-dc15-5cf4d2bbdc4e"
      },
      "execution_count": null,
      "outputs": [
        {
          "output_type": "stream",
          "name": "stdout",
          "text": [
            "Confusion Matrix for K Neighbors Classifier:\n",
            "[[198  84]\n",
            " [ 83 157]]\n",
            "Score:  68.01\n",
            "Classification Report:\n",
            "              precision    recall  f1-score   support\n",
            "\n",
            "           0       0.70      0.70      0.70       282\n",
            "           1       0.65      0.65      0.65       240\n",
            "\n",
            "    accuracy                           0.68       522\n",
            "   macro avg       0.68      0.68      0.68       522\n",
            "weighted avg       0.68      0.68      0.68       522\n",
            "\n"
          ]
        }
      ]
    },
    {
      "cell_type": "code",
      "source": [
        "acc5=metrics.accuracy_score(y_test,predknn)\n",
        "print(\"Accuracy:\",acc5*100,\"%\")"
      ],
      "metadata": {
        "colab": {
          "base_uri": "https://localhost:8080/"
        },
        "id": "S689chMdjc2b",
        "outputId": "6b9e9da6-986f-4e76-9bdb-ad07fc779a24"
      },
      "execution_count": null,
      "outputs": [
        {
          "output_type": "stream",
          "name": "stdout",
          "text": [
            "Accuracy: 68.00766283524904 %\n"
          ]
        }
      ]
    },
    {
      "cell_type": "code",
      "source": [
        "from xgboost import XGBClassifier\n",
        "xgb = XGBClassifier()\n",
        "xgb.fit(x_train,y_train)\n",
        "predxgb = xgb.predict(x_test)\n",
        "print(\"Confusion Matrix for xgboost Classifier:\")\n",
        "print(confusion_matrix(y_test,predxgb))\n",
        "print(\"Score: \",round(accuracy_score(y_test,predxgb)*100,2))\n",
        "print(\"Classification Report:\")\n",
        "print(classification_report(y_test,predxgb))"
      ],
      "metadata": {
        "colab": {
          "base_uri": "https://localhost:8080/"
        },
        "id": "0Uw9WQWjjhWE",
        "outputId": "a9eb3fa4-f68e-4423-deb0-8e0bbdf130bb"
      },
      "execution_count": null,
      "outputs": [
        {
          "output_type": "stream",
          "name": "stdout",
          "text": [
            "Confusion Matrix for xgboost Classifier:\n",
            "[[198  84]\n",
            " [ 65 175]]\n",
            "Score:  71.46\n",
            "Classification Report:\n",
            "              precision    recall  f1-score   support\n",
            "\n",
            "           0       0.75      0.70      0.73       282\n",
            "           1       0.68      0.73      0.70       240\n",
            "\n",
            "    accuracy                           0.71       522\n",
            "   macro avg       0.71      0.72      0.71       522\n",
            "weighted avg       0.72      0.71      0.72       522\n",
            "\n"
          ]
        }
      ]
    },
    {
      "cell_type": "code",
      "source": [
        "\n",
        "\n",
        "acc6=metrics.accuracy_score(y_test,predxgb)\n",
        "print(\"Accuracy:\",acc6*100,\"%\")\n",
        "\n"
      ],
      "metadata": {
        "colab": {
          "base_uri": "https://localhost:8080/"
        },
        "id": "dSQaywB6jsHr",
        "outputId": "a90aac71-f6e7-4bc6-a56f-1dcf18770238"
      },
      "execution_count": null,
      "outputs": [
        {
          "output_type": "stream",
          "name": "stdout",
          "text": [
            "Accuracy: 71.455938697318 %\n"
          ]
        }
      ]
    },
    {
      "cell_type": "code",
      "source": [
        "import matplotlib.pyplot as plt; plt.rcdefaults()\n",
        "import numpy as np\n",
        "import matplotlib.pyplot as plt\n",
        "\n",
        "objects = ('NB','RF','DT','SVM','KNN','XGB')\n",
        "y_pos = np.arange(len(objects))\n",
        "performance = [acc1,acc2,acc3,acc4,acc5,acc6]\n",
        "\n",
        "plt.bar(y_pos, performance, align='center', alpha=0.5)\n",
        "plt.xticks(y_pos, objects)\n",
        "plt.ylabel('Score')\n",
        "plt.title('Best Accuracy')\n",
        "\n",
        "plt.show()"
      ],
      "metadata": {
        "colab": {
          "base_uri": "https://localhost:8080/",
          "height": 452
        },
        "id": "ZRggfnLIjxlb",
        "outputId": "327996b5-39e9-4228-cd0d-76f1ae77929f"
      },
      "execution_count": null,
      "outputs": [
        {
          "output_type": "display_data",
          "data": {
            "text/plain": [
              "<Figure size 640x480 with 1 Axes>"
            ],
            "image/png": "[encoded data removed]"
          },
          "metadata": {}
        }
      ]
    },
    {
      "cell_type": "code",
      "source": [
        "headline=input()\n",
        "prt=vocab.transform([headline])"
      ],
      "metadata": {
        "colab": {
          "base_uri": "https://localhost:8080/"
        },
        "id": "GK2UUUOskw9N",
        "outputId": "ab49ad5e-b922-4b6c-ca24-b4d9b8dae937"
      },
      "execution_count": null,
      "outputs": [
        {
          "name": "stdout",
          "output_type": "stream",
          "text": [
            "আমি সত্যিই ব্যার্থ  কারণ আমি কখনোই   তোমাকে বুঝাতে পারি নাই আমি   তোমাকে কতটা ভালবাসি\n"
          ]
        }
      ]
    },
    {
      "cell_type": "code",
      "source": [
        "m1=svm.predict(prt)\n",
        "print(\"Predicted Rating:\",m1)\n",
        "if m1==0:\n",
        "  print(\"Depressive\")\n",
        "else:\n",
        "    print(\"Non_Depressive\")"
      ],
      "metadata": {
        "colab": {
          "base_uri": "https://localhost:8080/"
        },
        "id": "fO9vtjegk5fw",
        "outputId": "a20363e7-ef78-4be5-acde-4114d48db5bc"
      },
      "execution_count": null,
      "outputs": [
        {
          "output_type": "stream",
          "name": "stdout",
          "text": [
            "Predicted Rating: [0]\n",
            "Depressive\n"
          ]
        }
      ]
    },
    {
      "cell_type": "code",
      "source": [
        "m2=knn.predict(prt)\n",
        "print(\"Predicted Rating:\",m2)\n",
        "if m2==0:\n",
        "  print(\"Depressive\")\n",
        "else:\n",
        "    print(\"Non_Depressive\")"
      ],
      "metadata": {
        "colab": {
          "base_uri": "https://localhost:8080/"
        },
        "id": "KWMZnoWyl0wY",
        "outputId": "95efadcf-f19e-42c3-ef34-92ccc0a91bd7"
      },
      "execution_count": null,
      "outputs": [
        {
          "output_type": "stream",
          "name": "stdout",
          "text": [
            "Predicted Rating: [0]\n",
            "Depressive\n"
          ]
        }
      ]
    },
    {
      "cell_type": "code",
      "source": [
        "m3=dt.predict(prt)\n",
        "print(\"Predicted Rating:\",m3)\n",
        "if m3==0:\n",
        "  print(\"Depressive\")\n",
        "else:\n",
        "    print(\"Non_Depressive\")"
      ],
      "metadata": {
        "colab": {
          "base_uri": "https://localhost:8080/"
        },
        "id": "wPp55pZ2l_MB",
        "outputId": "92708f88-1f24-4a60-86e0-ee4c4371a0c2"
      },
      "execution_count": null,
      "outputs": [
        {
          "output_type": "stream",
          "name": "stdout",
          "text": [
            "Predicted Rating: [0]\n",
            "Depressive\n"
          ]
        }
      ]
    },
    {
      "cell_type": "code",
      "source": [
        "m4=mnb.predict(prt)\n",
        "print(\"Predicted Rating:\",m4)\n",
        "if m4==0:\n",
        "  print(\"Depressive\")\n",
        "else:\n",
        "  print(\"Non_Depressive\")"
      ],
      "metadata": {
        "colab": {
          "base_uri": "https://localhost:8080/"
        },
        "id": "su9GJ5Xgmi5f",
        "outputId": "6ec32b8f-a90d-442e-bed4-1e68b94e6509"
      },
      "execution_count": null,
      "outputs": [
        {
          "output_type": "stream",
          "name": "stdout",
          "text": [
            "Predicted Rating: [0]\n",
            "Depressive\n"
          ]
        }
      ]
    },
    {
      "cell_type": "code",
      "source": [
        "\n",
        "\n",
        "m5=rmfr.predict(prt)\n",
        "print(\"Predicted Rating:\",m5)\n",
        "if m5==0:\n",
        "  print(\"Depressive\")\n",
        "else:\n",
        "    print(\"Non_Depressive\")\n",
        "\n"
      ],
      "metadata": {
        "colab": {
          "base_uri": "https://localhost:8080/"
        },
        "id": "K9Whr-yimwVj",
        "outputId": "26c5d434-cc3a-4ea5-f248-378ea7ff4c26"
      },
      "execution_count": null,
      "outputs": [
        {
          "output_type": "stream",
          "name": "stdout",
          "text": [
            "Predicted Rating: [0]\n",
            "Depressive\n"
          ]
        }
      ]
    },
    {
      "cell_type": "code",
      "source": [
        "m6=xgb.predict(prt)\n",
        "print(\"Predicted Rating:\",m6)\n",
        "if m5==0:\n",
        "  print(\"Depressive\")\n",
        "else:\n",
        "    print(\"Non_Depressive\")"
      ],
      "metadata": {
        "colab": {
          "base_uri": "https://localhost:8080/"
        },
        "id": "moBgFyWFm_5V",
        "outputId": "aa4b7860-9041-49d4-90e2-b6ea5dab9eb4"
      },
      "execution_count": null,
      "outputs": [
        {
          "output_type": "stream",
          "name": "stdout",
          "text": [
            "Predicted Rating: [0]\n",
            "Depressive\n"
          ]
        }
      ]
    }
  ]
}